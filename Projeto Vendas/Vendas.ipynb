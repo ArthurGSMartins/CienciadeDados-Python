{
 "cells": [
  {
   "cell_type": "code",
   "execution_count": 42,
   "metadata": {},
   "outputs": [],
   "source": [
    "import pandas as pd\n",
    "import numpy as np\n",
    "import seaborn as sns \n",
    "import matplotlib.pyplot as plt\n",
    "from sklearn.tree import DecisionTreeRegressor\n",
    "from sklearn.ensemble import RandomForestRegressor\n",
    "from sklearn.linear_model import LinearRegression\n",
    "from sklearn.model_selection import train_test_split\n",
    "from sklearn.metrics import mean_squared_error, r2_score"
   ]
  },
  {
   "cell_type": "markdown",
   "metadata": {},
   "source": [
    "Preparação de Dados"
   ]
  },
  {
   "cell_type": "code",
   "execution_count": 3,
   "metadata": {},
   "outputs": [],
   "source": [
    "df = pd.read_csv('Sales Dataset.csv')"
   ]
  },
  {
   "cell_type": "code",
   "execution_count": 4,
   "metadata": {},
   "outputs": [
    {
     "data": {
      "text/html": [
       "<div>\n",
       "<style scoped>\n",
       "    .dataframe tbody tr th:only-of-type {\n",
       "        vertical-align: middle;\n",
       "    }\n",
       "\n",
       "    .dataframe tbody tr th {\n",
       "        vertical-align: top;\n",
       "    }\n",
       "\n",
       "    .dataframe thead th {\n",
       "        text-align: right;\n",
       "    }\n",
       "</style>\n",
       "<table border=\"1\" class=\"dataframe\">\n",
       "  <thead>\n",
       "    <tr style=\"text-align: right;\">\n",
       "      <th></th>\n",
       "      <th>Order ID</th>\n",
       "      <th>Amount</th>\n",
       "      <th>Profit</th>\n",
       "      <th>Quantity</th>\n",
       "      <th>Category</th>\n",
       "      <th>Sub-Category</th>\n",
       "      <th>PaymentMode</th>\n",
       "      <th>Order Date</th>\n",
       "      <th>CustomerName</th>\n",
       "      <th>State</th>\n",
       "      <th>City</th>\n",
       "      <th>Year-Month</th>\n",
       "    </tr>\n",
       "  </thead>\n",
       "  <tbody>\n",
       "    <tr>\n",
       "      <th>0</th>\n",
       "      <td>B-26776</td>\n",
       "      <td>9726</td>\n",
       "      <td>1275</td>\n",
       "      <td>5</td>\n",
       "      <td>Electronics</td>\n",
       "      <td>Electronic Games</td>\n",
       "      <td>UPI</td>\n",
       "      <td>2023-06-27</td>\n",
       "      <td>David Padilla</td>\n",
       "      <td>Florida</td>\n",
       "      <td>Miami</td>\n",
       "      <td>2023-06</td>\n",
       "    </tr>\n",
       "    <tr>\n",
       "      <th>1</th>\n",
       "      <td>B-26776</td>\n",
       "      <td>9726</td>\n",
       "      <td>1275</td>\n",
       "      <td>5</td>\n",
       "      <td>Electronics</td>\n",
       "      <td>Electronic Games</td>\n",
       "      <td>UPI</td>\n",
       "      <td>2024-12-27</td>\n",
       "      <td>Connor Morgan</td>\n",
       "      <td>Illinois</td>\n",
       "      <td>Chicago</td>\n",
       "      <td>2024-12</td>\n",
       "    </tr>\n",
       "    <tr>\n",
       "      <th>2</th>\n",
       "      <td>B-26776</td>\n",
       "      <td>9726</td>\n",
       "      <td>1275</td>\n",
       "      <td>5</td>\n",
       "      <td>Electronics</td>\n",
       "      <td>Electronic Games</td>\n",
       "      <td>UPI</td>\n",
       "      <td>2021-07-25</td>\n",
       "      <td>Robert Stone</td>\n",
       "      <td>New York</td>\n",
       "      <td>Buffalo</td>\n",
       "      <td>2021-07</td>\n",
       "    </tr>\n",
       "    <tr>\n",
       "      <th>3</th>\n",
       "      <td>B-26776</td>\n",
       "      <td>4975</td>\n",
       "      <td>1330</td>\n",
       "      <td>14</td>\n",
       "      <td>Electronics</td>\n",
       "      <td>Printers</td>\n",
       "      <td>UPI</td>\n",
       "      <td>2023-06-27</td>\n",
       "      <td>David Padilla</td>\n",
       "      <td>Florida</td>\n",
       "      <td>Miami</td>\n",
       "      <td>2023-06</td>\n",
       "    </tr>\n",
       "    <tr>\n",
       "      <th>4</th>\n",
       "      <td>B-26776</td>\n",
       "      <td>4975</td>\n",
       "      <td>1330</td>\n",
       "      <td>14</td>\n",
       "      <td>Electronics</td>\n",
       "      <td>Printers</td>\n",
       "      <td>UPI</td>\n",
       "      <td>2024-12-27</td>\n",
       "      <td>Connor Morgan</td>\n",
       "      <td>Illinois</td>\n",
       "      <td>Chicago</td>\n",
       "      <td>2024-12</td>\n",
       "    </tr>\n",
       "  </tbody>\n",
       "</table>\n",
       "</div>"
      ],
      "text/plain": [
       "  Order ID  Amount  Profit  Quantity     Category      Sub-Category  \\\n",
       "0  B-26776    9726    1275         5  Electronics  Electronic Games   \n",
       "1  B-26776    9726    1275         5  Electronics  Electronic Games   \n",
       "2  B-26776    9726    1275         5  Electronics  Electronic Games   \n",
       "3  B-26776    4975    1330        14  Electronics          Printers   \n",
       "4  B-26776    4975    1330        14  Electronics          Printers   \n",
       "\n",
       "  PaymentMode  Order Date   CustomerName     State     City Year-Month  \n",
       "0         UPI  2023-06-27  David Padilla   Florida    Miami    2023-06  \n",
       "1         UPI  2024-12-27  Connor Morgan  Illinois  Chicago    2024-12  \n",
       "2         UPI  2021-07-25   Robert Stone  New York  Buffalo    2021-07  \n",
       "3         UPI  2023-06-27  David Padilla   Florida    Miami    2023-06  \n",
       "4         UPI  2024-12-27  Connor Morgan  Illinois  Chicago    2024-12  "
      ]
     },
     "execution_count": 4,
     "metadata": {},
     "output_type": "execute_result"
    }
   ],
   "source": [
    "df.head()"
   ]
  },
  {
   "cell_type": "code",
   "execution_count": 5,
   "metadata": {},
   "outputs": [
    {
     "name": "stdout",
     "output_type": "stream",
     "text": [
      "<class 'pandas.core.frame.DataFrame'>\n",
      "RangeIndex: 1194 entries, 0 to 1193\n",
      "Data columns (total 12 columns):\n",
      " #   Column        Non-Null Count  Dtype \n",
      "---  ------        --------------  ----- \n",
      " 0   Order ID      1194 non-null   object\n",
      " 1   Amount        1194 non-null   int64 \n",
      " 2   Profit        1194 non-null   int64 \n",
      " 3   Quantity      1194 non-null   int64 \n",
      " 4   Category      1194 non-null   object\n",
      " 5   Sub-Category  1194 non-null   object\n",
      " 6   PaymentMode   1194 non-null   object\n",
      " 7   Order Date    1194 non-null   object\n",
      " 8   CustomerName  1194 non-null   object\n",
      " 9   State         1194 non-null   object\n",
      " 10  City          1194 non-null   object\n",
      " 11  Year-Month    1194 non-null   object\n",
      "dtypes: int64(3), object(9)\n",
      "memory usage: 112.1+ KB\n"
     ]
    }
   ],
   "source": [
    "df.info()"
   ]
  },
  {
   "cell_type": "code",
   "execution_count": 6,
   "metadata": {},
   "outputs": [
    {
     "data": {
      "text/plain": [
       "<bound method NDFrame.describe of      Order ID  Amount  Profit  Quantity         Category      Sub-Category  \\\n",
       "0     B-26776    9726    1275         5      Electronics  Electronic Games   \n",
       "1     B-26776    9726    1275         5      Electronics  Electronic Games   \n",
       "2     B-26776    9726    1275         5      Electronics  Electronic Games   \n",
       "3     B-26776    4975    1330        14      Electronics          Printers   \n",
       "4     B-26776    4975    1330        14      Electronics          Printers   \n",
       "...       ...     ...     ...       ...              ...               ...   \n",
       "1189  B-26370    8825    3594        15        Furniture            Tables   \n",
       "1190  B-26298    2082     642         8      Electronics            Phones   \n",
       "1191  B-26298    2082     642         8      Electronics            Phones   \n",
       "1192  B-26298    2082     642         8      Electronics            Phones   \n",
       "1193  B-25068     914     163        13  Office Supplies           Markers   \n",
       "\n",
       "     PaymentMode  Order Date        CustomerName     State           City  \\\n",
       "0            UPI  2023-06-27       David Padilla   Florida          Miami   \n",
       "1            UPI  2024-12-27       Connor Morgan  Illinois        Chicago   \n",
       "2            UPI  2021-07-25        Robert Stone  New York        Buffalo   \n",
       "3            UPI  2023-06-27       David Padilla   Florida          Miami   \n",
       "4            UPI  2024-12-27       Connor Morgan  Illinois        Chicago   \n",
       "...          ...         ...                 ...       ...            ...   \n",
       "1189  Debit Card  2024-07-31        Megan Mclean  New York  New York City   \n",
       "1190         EMI  2020-06-02        Caitlin Hunt  New York      Rochester   \n",
       "1191         EMI  2022-12-15       Jenna Holland     Texas         Austin   \n",
       "1192         EMI  2020-08-07  Stephanie Oconnell  New York        Buffalo   \n",
       "1193         UPI  2024-10-26         Andrea Hill  Illinois        Chicago   \n",
       "\n",
       "     Year-Month  \n",
       "0       2023-06  \n",
       "1       2024-12  \n",
       "2       2021-07  \n",
       "3       2023-06  \n",
       "4       2024-12  \n",
       "...         ...  \n",
       "1189    2024-07  \n",
       "1190    2020-06  \n",
       "1191    2022-12  \n",
       "1192    2020-08  \n",
       "1193    2024-10  \n",
       "\n",
       "[1194 rows x 12 columns]>"
      ]
     },
     "execution_count": 6,
     "metadata": {},
     "output_type": "execute_result"
    }
   ],
   "source": [
    "df.describe"
   ]
  },
  {
   "cell_type": "code",
   "execution_count": 7,
   "metadata": {},
   "outputs": [],
   "source": [
    "df['Order Date'] = pd.to_datetime(df['Order Date'])"
   ]
  },
  {
   "cell_type": "code",
   "execution_count": 8,
   "metadata": {},
   "outputs": [],
   "source": [
    "df.duplicated().sum()\n",
    "df = df.drop_duplicates()"
   ]
  },
  {
   "cell_type": "code",
   "execution_count": 9,
   "metadata": {},
   "outputs": [
    {
     "data": {
      "text/html": [
       "<div>\n",
       "<style scoped>\n",
       "    .dataframe tbody tr th:only-of-type {\n",
       "        vertical-align: middle;\n",
       "    }\n",
       "\n",
       "    .dataframe tbody tr th {\n",
       "        vertical-align: top;\n",
       "    }\n",
       "\n",
       "    .dataframe thead th {\n",
       "        text-align: right;\n",
       "    }\n",
       "</style>\n",
       "<table border=\"1\" class=\"dataframe\">\n",
       "  <thead>\n",
       "    <tr style=\"text-align: right;\">\n",
       "      <th></th>\n",
       "      <th>Amount</th>\n",
       "      <th>Profit</th>\n",
       "      <th>Quantity</th>\n",
       "    </tr>\n",
       "  </thead>\n",
       "  <tbody>\n",
       "    <tr>\n",
       "      <th>count</th>\n",
       "      <td>1194.000000</td>\n",
       "      <td>1194.000000</td>\n",
       "      <td>1194.000000</td>\n",
       "    </tr>\n",
       "    <tr>\n",
       "      <th>mean</th>\n",
       "      <td>5178.089615</td>\n",
       "      <td>1348.992462</td>\n",
       "      <td>10.674204</td>\n",
       "    </tr>\n",
       "    <tr>\n",
       "      <th>std</th>\n",
       "      <td>2804.921955</td>\n",
       "      <td>1117.992573</td>\n",
       "      <td>5.777102</td>\n",
       "    </tr>\n",
       "    <tr>\n",
       "      <th>min</th>\n",
       "      <td>508.000000</td>\n",
       "      <td>50.000000</td>\n",
       "      <td>1.000000</td>\n",
       "    </tr>\n",
       "    <tr>\n",
       "      <th>25%</th>\n",
       "      <td>2799.000000</td>\n",
       "      <td>410.000000</td>\n",
       "      <td>6.000000</td>\n",
       "    </tr>\n",
       "    <tr>\n",
       "      <th>50%</th>\n",
       "      <td>5152.000000</td>\n",
       "      <td>1014.000000</td>\n",
       "      <td>11.000000</td>\n",
       "    </tr>\n",
       "    <tr>\n",
       "      <th>75%</th>\n",
       "      <td>7626.000000</td>\n",
       "      <td>2035.000000</td>\n",
       "      <td>16.000000</td>\n",
       "    </tr>\n",
       "    <tr>\n",
       "      <th>max</th>\n",
       "      <td>9992.000000</td>\n",
       "      <td>4930.000000</td>\n",
       "      <td>20.000000</td>\n",
       "    </tr>\n",
       "  </tbody>\n",
       "</table>\n",
       "</div>"
      ],
      "text/plain": [
       "            Amount       Profit     Quantity\n",
       "count  1194.000000  1194.000000  1194.000000\n",
       "mean   5178.089615  1348.992462    10.674204\n",
       "std    2804.921955  1117.992573     5.777102\n",
       "min     508.000000    50.000000     1.000000\n",
       "25%    2799.000000   410.000000     6.000000\n",
       "50%    5152.000000  1014.000000    11.000000\n",
       "75%    7626.000000  2035.000000    16.000000\n",
       "max    9992.000000  4930.000000    20.000000"
      ]
     },
     "execution_count": 9,
     "metadata": {},
     "output_type": "execute_result"
    }
   ],
   "source": [
    "df[['Amount', 'Profit', 'Quantity']].describe()"
   ]
  },
  {
   "cell_type": "code",
   "execution_count": 10,
   "metadata": {},
   "outputs": [],
   "source": [
    "df['City'] = df['City'].str.title().str.strip()"
   ]
  },
  {
   "cell_type": "code",
   "execution_count": 11,
   "metadata": {},
   "outputs": [],
   "source": [
    "df['Quantity'] = df['Quantity'].astype(int)"
   ]
  },
  {
   "cell_type": "code",
   "execution_count": 12,
   "metadata": {},
   "outputs": [],
   "source": [
    "df['Ano'] = df['Order Date'].dt.year\n",
    "df['Mes'] = df['Order Date'].dt.month\n",
    "df['DiaSemana'] = df['Order Date'].dt.day_name()"
   ]
  },
  {
   "cell_type": "code",
   "execution_count": 13,
   "metadata": {},
   "outputs": [
    {
     "data": {
      "text/plain": [
       "PaymentMode\n",
       "Debit Card     260\n",
       "Credit Card    258\n",
       "UPI            252\n",
       "EMI            218\n",
       "COD            206\n",
       "Name: count, dtype: int64"
      ]
     },
     "execution_count": 13,
     "metadata": {},
     "output_type": "execute_result"
    }
   ],
   "source": [
    "df['PaymentMode'].value_counts()"
   ]
  },
  {
   "cell_type": "code",
   "execution_count": 14,
   "metadata": {},
   "outputs": [
    {
     "data": {
      "text/plain": [
       "<Axes: xlabel='Amount'>"
      ]
     },
     "execution_count": 14,
     "metadata": {},
     "output_type": "execute_result"
    },
    {
     "data": {
      "image/png": "[encoded data removed]",
      "text/plain": [
       "<Figure size 640x480 with 1 Axes>"
      ]
     },
     "metadata": {},
     "output_type": "display_data"
    }
   ],
   "source": [
    "sns.boxplot(data=df, x='Amount')"
   ]
  },
  {
   "cell_type": "markdown",
   "metadata": {},
   "source": [
    "Primeira Parte Análise Exploratória de Vendas"
   ]
  },
  {
   "cell_type": "code",
   "execution_count": 15,
   "metadata": {},
   "outputs": [
    {
     "name": "stdout",
     "output_type": "stream",
     "text": [
      "    Ano  Profit\n",
      "0  2020  224103\n",
      "1  2021  283231\n",
      "2  2022  393113\n",
      "3  2023  321671\n",
      "4  2024  308336\n",
      "5  2025   80243\n"
     ]
    }
   ],
   "source": [
    "vendas_ano = df.groupby('Ano')['Profit'].sum().reset_index()\n",
    "print(vendas_ano)"
   ]
  },
  {
   "cell_type": "code",
   "execution_count": 16,
   "metadata": {},
   "outputs": [
    {
     "name": "stdout",
     "output_type": "stream",
     "text": [
      "    Ano  Quantity\n",
      "0  2020      1695\n",
      "1  2021      2358\n",
      "2  2022      3234\n",
      "3  2023      2497\n",
      "4  2024      2523\n",
      "5  2025       438\n"
     ]
    }
   ],
   "source": [
    "qtdvendas_ano = df.groupby('Ano')['Quantity'].sum().reset_index()\n",
    "print(qtdvendas_ano)"
   ]
  },
  {
   "cell_type": "code",
   "execution_count": 17,
   "metadata": {},
   "outputs": [
    {
     "name": "stdout",
     "output_type": "stream",
     "text": [
      "          Category  Profit\n",
      "0      Electronics  518580\n",
      "1        Furniture  540542\n",
      "2  Office Supplies  551575\n"
     ]
    }
   ],
   "source": [
    "Producao_Produto = df.groupby('Category')['Profit'].sum().reset_index()\n",
    "print(Producao_Produto)"
   ]
  },
  {
   "cell_type": "code",
   "execution_count": 18,
   "metadata": {},
   "outputs": [
    {
     "data": {
      "image/png": "[encoded data removed]",
      "text/plain": [
       "<Figure size 640x480 with 1 Axes>"
      ]
     },
     "metadata": {},
     "output_type": "display_data"
    }
   ],
   "source": [
    "fig, ax = plt.subplots()\n",
    "\n",
    "y_pos = range(len(Producao_Produto))\n",
    "ax.barh(y_pos, Producao_Produto['Profit'], align='center')\n",
    "ax.set_yticks(y_pos)\n",
    "ax.set_yticklabels(Producao_Produto['Category'])\n",
    "ax.invert_yaxis()  # Para mostrar o produto mais vendido no topo\n",
    "ax.set_xlabel('Produção')\n",
    "ax.set_title('Top Produtos Mais Vendidos')\n",
    "\n",
    "plt.show()"
   ]
  },
  {
   "cell_type": "code",
   "execution_count": 19,
   "metadata": {},
   "outputs": [
    {
     "name": "stdout",
     "output_type": "stream",
     "text": [
      "     Ano           City  Profit\n",
      "87  2024  San Francisco   38320\n",
      "36  2022         Austin   35102\n",
      "47  2022        Orlando   33017\n",
      "37  2022        Buffalo   31070\n",
      "65  2023        Orlando   30642\n",
      "49  2022      Rochester   27724\n",
      "81  2024          Miami   27283\n",
      "27  2021          Miami   27021\n",
      "1   2020        Buffalo   26642\n",
      "45  2022          Miami   26548\n",
      "     Ano       State  Profit\n",
      "13  2022     Florida   79394\n",
      "24  2024  California   75903\n",
      "17  2022       Texas   73455\n",
      "21  2023    New York   68128\n",
      "15  2022    New York   68073\n",
      "14  2022    Illinois   60575\n",
      "25  2024     Florida   59528\n",
      "18  2023  California   58477\n",
      "7   2021     Florida   56470\n",
      "11  2021       Texas   56340\n"
     ]
    }
   ],
   "source": [
    "Prod_Estado = df.groupby(['Ano','State'])['Profit'].sum().reset_index()\n",
    "Prod_Cidade = df.groupby(['Ano','City'])['Profit'].sum().reset_index()\n",
    "top_10_Estado = Prod_Estado.sort_values(by='Profit', ascending=False).head(10)\n",
    "top_10_Cidade = Prod_Cidade.sort_values(by='Profit', ascending=False).head(10)\n",
    "\n",
    "print(top_10_Cidade)\n",
    "print(top_10_Estado)"
   ]
  },
  {
   "cell_type": "code",
   "execution_count": 20,
   "metadata": {},
   "outputs": [
    {
     "name": "stdout",
     "output_type": "stream",
     "text": [
      "           CustomerName  Profit\n",
      "83       Brandi Vasquez  4930.0\n",
      "488        Maria Galvan  4585.0\n",
      "30         Amy Thompson  4507.0\n",
      "698      Sharon Wilkins  4477.0\n",
      "47          Angela Todd  4441.0\n",
      "145  Christopher Jordan  4401.0\n",
      "655     Roberto Parrish  4361.0\n",
      "255       George Ashley  4339.0\n",
      "677         Sara Bailey  4339.0\n",
      "376       Joseph Hooper  4299.0\n"
     ]
    }
   ],
   "source": [
    "Ticket_Medio = df.groupby('CustomerName')['Profit'].mean().reset_index()\n",
    "Top_10_clientes = Ticket_Medio.sort_values(by='Profit', ascending=False).head(10)\n",
    "\n",
    "print(Top_10_clientes)\n"
   ]
  },
  {
   "cell_type": "code",
   "execution_count": 21,
   "metadata": {},
   "outputs": [
    {
     "name": "stdout",
     "output_type": "stream",
     "text": [
      "   Year-Month  Profit\n",
      "29    2022-08   58918\n",
      "40    2023-07   49391\n",
      "33    2022-12   48915\n",
      "27    2022-06   45962\n",
      "22    2022-01   39808\n",
      "31    2022-10   39007\n",
      "58    2025-01   38595\n",
      "12    2021-03   36377\n",
      "52    2024-07   36323\n",
      "51    2024-06   36191\n"
     ]
    }
   ],
   "source": [
    "vendas_AnoMes = df.groupby('Year-Month')['Profit'].sum().reset_index()\n",
    "top10_Vendas_AnoMes = vendas_AnoMes.sort_values(by='Profit', ascending=False).head(10)\n",
    "print(top10_Vendas_AnoMes)"
   ]
  },
  {
   "cell_type": "markdown",
   "metadata": {},
   "source": [
    "2ª Parte - Previsão de Vendas"
   ]
  },
  {
   "cell_type": "code",
   "execution_count": 22,
   "metadata": {},
   "outputs": [],
   "source": [
    "df_numerico = df.select_dtypes(include = 'number')"
   ]
  },
  {
   "cell_type": "code",
   "execution_count": 23,
   "metadata": {},
   "outputs": [
    {
     "name": "stdout",
     "output_type": "stream",
     "text": [
      "Profit      1.000000\n",
      "Amount      0.675285\n",
      "Quantity    0.066088\n",
      "Ano         0.031822\n",
      "Mes        -0.027834\n",
      "Name: Profit, dtype: float64\n"
     ]
    }
   ],
   "source": [
    "correlacoes = df_numerico.corr()['Profit'].sort_values(ascending=False)\n",
    "print(correlacoes)"
   ]
  },
  {
   "cell_type": "code",
   "execution_count": 24,
   "metadata": {},
   "outputs": [
    {
     "data": {
      "image/png": "[encoded data removed]",
      "text/plain": [
       "<Figure size 800x600 with 2 Axes>"
      ]
     },
     "metadata": {},
     "output_type": "display_data"
    }
   ],
   "source": [
    "plt.figure(figsize=(8, 6))\n",
    "sns.heatmap(df_numerico.corr(), annot=True, cmap='coolwarm', fmt=\".2f\")\n",
    "plt.title('Correlação entre variáveis numéricas')\n",
    "plt.show()"
   ]
  },
  {
   "cell_type": "code",
   "execution_count": 40,
   "metadata": {},
   "outputs": [
    {
     "name": "stdout",
     "output_type": "stream",
     "text": [
      "MSE: 688303.02\n",
      "R²: 45.68%\n"
     ]
    }
   ],
   "source": [
    "from sklearn.model_selection import train_test_split\n",
    "from sklearn.linear_model import LinearRegression\n",
    "from sklearn.metrics import mean_squared_error, r2_score\n",
    "\n",
    "# 1. Selecionar variáveis\n",
    "X = df[['Amount','Quantity']]  # feature (entrada)\n",
    "y = df['Profit']    # target (alvo)\n",
    "\n",
    "# 2. Separar em treino e teste\n",
    "X_train, X_test, y_train, y_test = train_test_split(X, y, test_size=0.2, random_state=42)\n",
    "\n",
    "# 3. Instanciar e treinar o modelo\n",
    "modelo = LinearRegression()\n",
    "modelo.fit(X_train, y_train)\n",
    "\n",
    "# 4. Fazer previsões\n",
    "y_pred = modelo.predict(X_test)\n",
    "\n",
    "# 5. Avaliar o modelo\n",
    "mse = mean_squared_error(y_test, y_pred)\n",
    "r2 = r2_score(y_test, y_pred)\n",
    "\n",
    "print(f\"MSE: {mse:.2f}\")\n",
    "print(f\"R²: {r2:.2%}\")\n"
   ]
  },
  {
   "cell_type": "code",
   "execution_count": 27,
   "metadata": {},
   "outputs": [
    {
     "data": {
      "image/png": "[encoded data removed]",
      "text/plain": [
       "<Figure size 800x600 with 1 Axes>"
      ]
     },
     "metadata": {},
     "output_type": "display_data"
    }
   ],
   "source": [
    "plt.figure(figsize=(8,6))\n",
    "plt.scatter(X_test, y_test, color='blue', label='Dados reais')\n",
    "plt.plot(X_test, y_pred, color='red', linewidth=2, label='Regressão Linear')\n",
    "plt.xlabel('Amount')\n",
    "plt.ylabel('Profit')\n",
    "plt.title('Lucro vs Valor da Venda (Regressão Linear)')\n",
    "plt.legend()\n",
    "plt.grid(True)\n",
    "plt.show()\n"
   ]
  },
  {
   "cell_type": "code",
   "execution_count": 31,
   "metadata": {},
   "outputs": [
    {
     "data": {
      "text/html": [
       "<div>\n",
       "<style scoped>\n",
       "    .dataframe tbody tr th:only-of-type {\n",
       "        vertical-align: middle;\n",
       "    }\n",
       "\n",
       "    .dataframe tbody tr th {\n",
       "        vertical-align: top;\n",
       "    }\n",
       "\n",
       "    .dataframe thead th {\n",
       "        text-align: right;\n",
       "    }\n",
       "</style>\n",
       "<table border=\"1\" class=\"dataframe\">\n",
       "  <thead>\n",
       "    <tr style=\"text-align: right;\">\n",
       "      <th></th>\n",
       "      <th>Amount</th>\n",
       "      <th>Profit</th>\n",
       "      <th>PaymentMode_Credit Card</th>\n",
       "      <th>PaymentMode_Debit Card</th>\n",
       "      <th>PaymentMode_EMI</th>\n",
       "      <th>PaymentMode_UPI</th>\n",
       "    </tr>\n",
       "  </thead>\n",
       "  <tbody>\n",
       "    <tr>\n",
       "      <th>0</th>\n",
       "      <td>9726</td>\n",
       "      <td>1275</td>\n",
       "      <td>False</td>\n",
       "      <td>False</td>\n",
       "      <td>False</td>\n",
       "      <td>True</td>\n",
       "    </tr>\n",
       "    <tr>\n",
       "      <th>1</th>\n",
       "      <td>9726</td>\n",
       "      <td>1275</td>\n",
       "      <td>False</td>\n",
       "      <td>False</td>\n",
       "      <td>False</td>\n",
       "      <td>True</td>\n",
       "    </tr>\n",
       "    <tr>\n",
       "      <th>2</th>\n",
       "      <td>9726</td>\n",
       "      <td>1275</td>\n",
       "      <td>False</td>\n",
       "      <td>False</td>\n",
       "      <td>False</td>\n",
       "      <td>True</td>\n",
       "    </tr>\n",
       "    <tr>\n",
       "      <th>3</th>\n",
       "      <td>4975</td>\n",
       "      <td>1330</td>\n",
       "      <td>False</td>\n",
       "      <td>False</td>\n",
       "      <td>False</td>\n",
       "      <td>True</td>\n",
       "    </tr>\n",
       "    <tr>\n",
       "      <th>4</th>\n",
       "      <td>4975</td>\n",
       "      <td>1330</td>\n",
       "      <td>False</td>\n",
       "      <td>False</td>\n",
       "      <td>False</td>\n",
       "      <td>True</td>\n",
       "    </tr>\n",
       "  </tbody>\n",
       "</table>\n",
       "</div>"
      ],
      "text/plain": [
       "   Amount  Profit  PaymentMode_Credit Card  PaymentMode_Debit Card  \\\n",
       "0    9726    1275                    False                   False   \n",
       "1    9726    1275                    False                   False   \n",
       "2    9726    1275                    False                   False   \n",
       "3    4975    1330                    False                   False   \n",
       "4    4975    1330                    False                   False   \n",
       "\n",
       "   PaymentMode_EMI  PaymentMode_UPI  \n",
       "0            False             True  \n",
       "1            False             True  \n",
       "2            False             True  \n",
       "3            False             True  \n",
       "4            False             True  "
      ]
     },
     "execution_count": 31,
     "metadata": {},
     "output_type": "execute_result"
    }
   ],
   "source": [
    "df_modelo = df[['Amount', 'PaymentMode', 'Profit']]\n",
    "df_dummies = pd.get_dummies(df_modelo, columns=['PaymentMode'], drop_first=True)\n",
    "df_dummies.head()\n"
   ]
  },
  {
   "cell_type": "code",
   "execution_count": 32,
   "metadata": {},
   "outputs": [
    {
     "name": "stdout",
     "output_type": "stream",
     "text": [
      "Novo MSE: 691990.11\n",
      "Novo R²: 45.39%\n"
     ]
    }
   ],
   "source": [
    "from sklearn.model_selection import train_test_split\n",
    "from sklearn.linear_model import LinearRegression\n",
    "from sklearn.metrics import mean_squared_error, r2_score\n",
    "\n",
    "# Separar X e y\n",
    "X = df_dummies.drop('Profit', axis=1)\n",
    "y = df_dummies['Profit']\n",
    "\n",
    "# Train-test split\n",
    "X_train, X_test, y_train, y_test = train_test_split(X, y, test_size=0.2, random_state=42)\n",
    "\n",
    "# Modelo\n",
    "modelo = LinearRegression()\n",
    "modelo.fit(X_train, y_train)\n",
    "\n",
    "# Previsões\n",
    "y_pred = modelo.predict(X_test)\n",
    "\n",
    "# Avaliação\n",
    "mse = mean_squared_error(y_test, y_pred)\n",
    "r2 = r2_score(y_test, y_pred)\n",
    "\n",
    "print(f\"Novo MSE: {mse:.2f}\")\n",
    "print(f\"Novo R²: {r2:.2%}\")\n"
   ]
  },
  {
   "cell_type": "code",
   "execution_count": 43,
   "metadata": {},
   "outputs": [],
   "source": [
    "# Mantendo os dados simples: apenas \"Amount\"\n",
    "X = df[['Amount']]\n",
    "y = df['Profit']\n",
    "\n",
    "# Separar treino e teste\n",
    "X_train, X_test, y_train, y_test = train_test_split(X, y, test_size=0.2, random_state=42)"
   ]
  },
  {
   "cell_type": "code",
   "execution_count": 44,
   "metadata": {},
   "outputs": [],
   "source": [
    "lr = LinearRegression()\n",
    "lr.fit(X_train, y_train)\n",
    "y_pred_lr = lr.predict(X_test)\n",
    "\n",
    "mse_lr = mean_squared_error(y_test, y_pred_lr)\n",
    "r2_lr = r2_score(y_test, y_pred_lr)\n"
   ]
  },
  {
   "cell_type": "code",
   "execution_count": 45,
   "metadata": {},
   "outputs": [],
   "source": [
    "tree = DecisionTreeRegressor(random_state=42)\n",
    "tree.fit(X_train, y_train)\n",
    "y_pred_tree = tree.predict(X_test)\n",
    "\n",
    "mse_tree = mean_squared_error(y_test, y_pred_tree)\n",
    "r2_tree = r2_score(y_test, y_pred_tree)\n"
   ]
  },
  {
   "cell_type": "code",
   "execution_count": 46,
   "metadata": {},
   "outputs": [],
   "source": [
    "rf = RandomForestRegressor(n_estimators=100, random_state=42)\n",
    "rf.fit(X_train, y_train)\n",
    "y_pred_rf = rf.predict(X_test)\n",
    "\n",
    "mse_rf = mean_squared_error(y_test, y_pred_rf)\n",
    "r2_rf = r2_score(y_test, y_pred_rf)\n"
   ]
  },
  {
   "cell_type": "code",
   "execution_count": 48,
   "metadata": {},
   "outputs": [
    {
     "name": "stdout",
     "output_type": "stream",
     "text": [
      "📈 Comparativo dos Modelos:\n",
      "Regressão Linear - MSE: 679140.84 | R²: 46.40%\n",
      "Árvore de Decisão - MSE: 749413.84 | R²: 40.85%\n",
      "Random Forest - MSE: 662104.84 | R²: 47.74%\n"
     ]
    }
   ],
   "source": [
    "print(\"📈 Comparativo dos Modelos:\")\n",
    "print(f\"Regressão Linear - MSE: {mse_lr:.2f} | R²: {r2_lr:.2%}\")\n",
    "print(f\"Árvore de Decisão - MSE: {mse_tree:.2f} | R²: {r2_tree:.2%}\")\n",
    "print(f\"Random Forest - MSE: {mse_rf:.2f} | R²: {r2_rf:.2%}\")\n"
   ]
  }
 ],
 "metadata": {
  "kernelspec": {
   "display_name": "base",
   "language": "python",
   "name": "python3"
  },
  "language_info": {
   "codemirror_mode": {
    "name": "ipython",
    "version": 3
   },
   "file_extension": ".py",
   "mimetype": "text/x-python",
   "name": "python",
   "nbconvert_exporter": "python",
   "pygments_lexer": "ipython3",
   "version": "3.12.4"
  }
 },
 "nbformat": 4,
 "nbformat_minor": 2
}
